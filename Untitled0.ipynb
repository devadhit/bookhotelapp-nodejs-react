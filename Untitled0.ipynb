{
  "nbformat": 4,
  "nbformat_minor": 0,
  "metadata": {
    "colab": {
      "provenance": [],
      "authorship_tag": "ABX9TyNymk+QnLLLmnatJVbBovdE",
      "include_colab_link": true
    },
    "kernelspec": {
      "name": "python3",
      "display_name": "Python 3"
    },
    "language_info": {
      "name": "python"
    }
  },
  "cells": [
    {
      "cell_type": "markdown",
      "metadata": {
        "id": "view-in-github",
        "colab_type": "text"
      },
      "source": [
        "<a href=\"https://colab.research.google.com/github/devadhit/bookhotelapp-nodejs-react/blob/main/Untitled0.ipynb\" target=\"_parent\"><img src=\"https://colab.research.google.com/assets/colab-badge.svg\" alt=\"Open In Colab\"/></a>"
      ]
    },
    {
      "cell_type": "code",
      "source": [],
      "metadata": {
        "id": "HrJWyD6xSXlu"
      },
      "execution_count": null,
      "outputs": []
    },
    {
      "cell_type": "code",
      "execution_count": null,
      "metadata": {
        "id": "o8EhGoRHSFav"
      },
      "outputs": [],
      "source": [
        "# prompt: print hello world using rot13\n",
        "\n",
        "def rot13(text):\n",
        "  result = ''\n",
        "  for char in text:\n",
        "    if 'a' <= char <= 'z':\n",
        "      result += chr(((ord(char) - ord('a') + 13) % 26) + ord('a'))\n",
        "    elif 'A' <= char <= 'Z':\n",
        "      result += chr(((ord(char) - ord('A') + 13) % 26) + ord('A'))\n",
        "    else:\n",
        "      result += char\n",
        "  return result\n",
        "\n",
        "hello_world_rot13 = rot13(\"hello world\")\n",
        "hello_world_rot13"
      ]
    }
  ]
}